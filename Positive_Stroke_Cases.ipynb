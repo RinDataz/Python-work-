{
  "cells": [
    {
      "cell_type": "code",
      "execution_count": 1,
      "metadata": {
        "id": "oK92M0m-ezbE"
      },
      "outputs": [],
      "source": [
        "import warnings\n",
        "warnings.filterwarnings('ignore')"
      ]
    },
    {
      "cell_type": "code",
      "execution_count": 2,
      "metadata": {
        "id": "mMQuUG7OtfrG"
      },
      "outputs": [
        {
          "ename": "ModuleNotFoundError",
          "evalue": "No module named 'pandas'",
          "output_type": "error",
          "traceback": [
            "\u001b[1;31m---------------------------------------------------------------------------\u001b[0m",
            "\u001b[1;31mModuleNotFoundError\u001b[0m                       Traceback (most recent call last)",
            "Cell \u001b[1;32mIn[2], line 2\u001b[0m\n\u001b[0;32m      1\u001b[0m \u001b[38;5;28;01mimport\u001b[39;00m \u001b[38;5;21;01mnumpy\u001b[39;00m \u001b[38;5;28;01mas\u001b[39;00m \u001b[38;5;21;01mnp\u001b[39;00m\n\u001b[1;32m----> 2\u001b[0m \u001b[38;5;28;01mimport\u001b[39;00m \u001b[38;5;21;01mpandas\u001b[39;00m \u001b[38;5;28;01mas\u001b[39;00m \u001b[38;5;21;01mpd\u001b[39;00m\n\u001b[0;32m      3\u001b[0m \u001b[38;5;28;01mimport\u001b[39;00m \u001b[38;5;21;01mmatplotlib\u001b[39;00m\u001b[38;5;21;01m.\u001b[39;00m\u001b[38;5;21;01mpyplot\u001b[39;00m \u001b[38;5;28;01mas\u001b[39;00m \u001b[38;5;21;01mplt\u001b[39;00m\n",
            "\u001b[1;31mModuleNotFoundError\u001b[0m: No module named 'pandas'"
          ]
        }
      ],
      "source": [
        "import numpy as np\n",
        "import pandas as pd\n",
        "import matplotlib.pyplot as plt"
      ]
    },
    {
      "cell_type": "markdown",
      "metadata": {
        "id": "0-RxAH5auFFy"
      },
      "source": [
        "# Loading the Dataset"
      ]
    },
    {
      "cell_type": "code",
      "execution_count": null,
      "metadata": {
        "colab": {
          "base_uri": "https://localhost:8080/",
          "height": 260
        },
        "id": "UQVo1CAJt7s8",
        "outputId": "9edb668a-4aca-4e32-c896-c6e9f65400f6"
      },
      "outputs": [
        {
          "data": {
            "text/html": [
              "\n",
              "  <div id=\"df-3cc19a6b-e8d2-4357-a032-bb844f286cd0\" class=\"colab-df-container\">\n",
              "    <div>\n",
              "<style scoped>\n",
              "    .dataframe tbody tr th:only-of-type {\n",
              "        vertical-align: middle;\n",
              "    }\n",
              "\n",
              "    .dataframe tbody tr th {\n",
              "        vertical-align: top;\n",
              "    }\n",
              "\n",
              "    .dataframe thead th {\n",
              "        text-align: right;\n",
              "    }\n",
              "</style>\n",
              "<table border=\"1\" class=\"dataframe\">\n",
              "  <thead>\n",
              "    <tr style=\"text-align: right;\">\n",
              "      <th></th>\n",
              "      <th>id</th>\n",
              "      <th>gender</th>\n",
              "      <th>age</th>\n",
              "      <th>hypertension</th>\n",
              "      <th>heart_disease</th>\n",
              "      <th>ever_married</th>\n",
              "      <th>work_type</th>\n",
              "      <th>Residence_type</th>\n",
              "      <th>avg_glucose_level</th>\n",
              "      <th>bmi</th>\n",
              "      <th>smoking_status</th>\n",
              "      <th>stroke</th>\n",
              "    </tr>\n",
              "  </thead>\n",
              "  <tbody>\n",
              "    <tr>\n",
              "      <th>0</th>\n",
              "      <td>9046</td>\n",
              "      <td>Male</td>\n",
              "      <td>67.0</td>\n",
              "      <td>0</td>\n",
              "      <td>1</td>\n",
              "      <td>Yes</td>\n",
              "      <td>Private</td>\n",
              "      <td>Urban</td>\n",
              "      <td>228.69</td>\n",
              "      <td>36.6</td>\n",
              "      <td>formerly smoked</td>\n",
              "      <td>1</td>\n",
              "    </tr>\n",
              "    <tr>\n",
              "      <th>1</th>\n",
              "      <td>51676</td>\n",
              "      <td>Female</td>\n",
              "      <td>61.0</td>\n",
              "      <td>0</td>\n",
              "      <td>0</td>\n",
              "      <td>Yes</td>\n",
              "      <td>Self-employed</td>\n",
              "      <td>Rural</td>\n",
              "      <td>202.21</td>\n",
              "      <td>NaN</td>\n",
              "      <td>never smoked</td>\n",
              "      <td>1</td>\n",
              "    </tr>\n",
              "    <tr>\n",
              "      <th>2</th>\n",
              "      <td>31112</td>\n",
              "      <td>Male</td>\n",
              "      <td>80.0</td>\n",
              "      <td>0</td>\n",
              "      <td>1</td>\n",
              "      <td>Yes</td>\n",
              "      <td>Private</td>\n",
              "      <td>Rural</td>\n",
              "      <td>105.92</td>\n",
              "      <td>32.5</td>\n",
              "      <td>never smoked</td>\n",
              "      <td>1</td>\n",
              "    </tr>\n",
              "    <tr>\n",
              "      <th>3</th>\n",
              "      <td>60182</td>\n",
              "      <td>Female</td>\n",
              "      <td>49.0</td>\n",
              "      <td>0</td>\n",
              "      <td>0</td>\n",
              "      <td>Yes</td>\n",
              "      <td>Private</td>\n",
              "      <td>Urban</td>\n",
              "      <td>171.23</td>\n",
              "      <td>34.4</td>\n",
              "      <td>smokes</td>\n",
              "      <td>1</td>\n",
              "    </tr>\n",
              "    <tr>\n",
              "      <th>4</th>\n",
              "      <td>1665</td>\n",
              "      <td>Female</td>\n",
              "      <td>79.0</td>\n",
              "      <td>1</td>\n",
              "      <td>0</td>\n",
              "      <td>Yes</td>\n",
              "      <td>Self-employed</td>\n",
              "      <td>Rural</td>\n",
              "      <td>174.12</td>\n",
              "      <td>24.0</td>\n",
              "      <td>never smoked</td>\n",
              "      <td>1</td>\n",
              "    </tr>\n",
              "  </tbody>\n",
              "</table>\n",
              "</div>\n",
              "    <div class=\"colab-df-buttons\">\n",
              "\n",
              "  <div class=\"colab-df-container\">\n",
              "    <button class=\"colab-df-convert\" onclick=\"convertToInteractive('df-3cc19a6b-e8d2-4357-a032-bb844f286cd0')\"\n",
              "            title=\"Convert this dataframe to an interactive table.\"\n",
              "            style=\"display:none;\">\n",
              "\n",
              "  <svg xmlns=\"http://www.w3.org/2000/svg\" height=\"24px\" viewBox=\"0 -960 960 960\">\n",
              "    <path d=\"M120-120v-720h720v720H120Zm60-500h600v-160H180v160Zm220 220h160v-160H400v160Zm0 220h160v-160H400v160ZM180-400h160v-160H180v160Zm440 0h160v-160H620v160ZM180-180h160v-160H180v160Zm440 0h160v-160H620v160Z\"/>\n",
              "  </svg>\n",
              "    </button>\n",
              "\n",
              "  <style>\n",
              "    .colab-df-container {\n",
              "      display:flex;\n",
              "      gap: 12px;\n",
              "    }\n",
              "\n",
              "    .colab-df-convert {\n",
              "      background-color: #E8F0FE;\n",
              "      border: none;\n",
              "      border-radius: 50%;\n",
              "      cursor: pointer;\n",
              "      display: none;\n",
              "      fill: #1967D2;\n",
              "      height: 32px;\n",
              "      padding: 0 0 0 0;\n",
              "      width: 32px;\n",
              "    }\n",
              "\n",
              "    .colab-df-convert:hover {\n",
              "      background-color: #E2EBFA;\n",
              "      box-shadow: 0px 1px 2px rgba(60, 64, 67, 0.3), 0px 1px 3px 1px rgba(60, 64, 67, 0.15);\n",
              "      fill: #174EA6;\n",
              "    }\n",
              "\n",
              "    .colab-df-buttons div {\n",
              "      margin-bottom: 4px;\n",
              "    }\n",
              "\n",
              "    [theme=dark] .colab-df-convert {\n",
              "      background-color: #3B4455;\n",
              "      fill: #D2E3FC;\n",
              "    }\n",
              "\n",
              "    [theme=dark] .colab-df-convert:hover {\n",
              "      background-color: #434B5C;\n",
              "      box-shadow: 0px 1px 3px 1px rgba(0, 0, 0, 0.15);\n",
              "      filter: drop-shadow(0px 1px 2px rgba(0, 0, 0, 0.3));\n",
              "      fill: #FFFFFF;\n",
              "    }\n",
              "  </style>\n",
              "\n",
              "    <script>\n",
              "      const buttonEl =\n",
              "        document.querySelector('#df-3cc19a6b-e8d2-4357-a032-bb844f286cd0 button.colab-df-convert');\n",
              "      buttonEl.style.display =\n",
              "        google.colab.kernel.accessAllowed ? 'block' : 'none';\n",
              "\n",
              "      async function convertToInteractive(key) {\n",
              "        const element = document.querySelector('#df-3cc19a6b-e8d2-4357-a032-bb844f286cd0');\n",
              "        const dataTable =\n",
              "          await google.colab.kernel.invokeFunction('convertToInteractive',\n",
              "                                                    [key], {});\n",
              "        if (!dataTable) return;\n",
              "\n",
              "        const docLinkHtml = 'Like what you see? Visit the ' +\n",
              "          '<a target=\"_blank\" href=https://colab.research.google.com/notebooks/data_table.ipynb>data table notebook</a>'\n",
              "          + ' to learn more about interactive tables.';\n",
              "        element.innerHTML = '';\n",
              "        dataTable['output_type'] = 'display_data';\n",
              "        await google.colab.output.renderOutput(dataTable, element);\n",
              "        const docLink = document.createElement('div');\n",
              "        docLink.innerHTML = docLinkHtml;\n",
              "        element.appendChild(docLink);\n",
              "      }\n",
              "    </script>\n",
              "  </div>\n",
              "\n",
              "\n",
              "<div id=\"df-1e3e5ba4-5601-4572-b0e5-7ac4cb74e083\">\n",
              "  <button class=\"colab-df-quickchart\" onclick=\"quickchart('df-1e3e5ba4-5601-4572-b0e5-7ac4cb74e083')\"\n",
              "            title=\"Suggest charts\"\n",
              "            style=\"display:none;\">\n",
              "\n",
              "<svg xmlns=\"http://www.w3.org/2000/svg\" height=\"24px\"viewBox=\"0 0 24 24\"\n",
              "     width=\"24px\">\n",
              "    <g>\n",
              "        <path d=\"M19 3H5c-1.1 0-2 .9-2 2v14c0 1.1.9 2 2 2h14c1.1 0 2-.9 2-2V5c0-1.1-.9-2-2-2zM9 17H7v-7h2v7zm4 0h-2V7h2v10zm4 0h-2v-4h2v4z\"/>\n",
              "    </g>\n",
              "</svg>\n",
              "  </button>\n",
              "\n",
              "<style>\n",
              "  .colab-df-quickchart {\n",
              "      --bg-color: #E8F0FE;\n",
              "      --fill-color: #1967D2;\n",
              "      --hover-bg-color: #E2EBFA;\n",
              "      --hover-fill-color: #174EA6;\n",
              "      --disabled-fill-color: #AAA;\n",
              "      --disabled-bg-color: #DDD;\n",
              "  }\n",
              "\n",
              "  [theme=dark] .colab-df-quickchart {\n",
              "      --bg-color: #3B4455;\n",
              "      --fill-color: #D2E3FC;\n",
              "      --hover-bg-color: #434B5C;\n",
              "      --hover-fill-color: #FFFFFF;\n",
              "      --disabled-bg-color: #3B4455;\n",
              "      --disabled-fill-color: #666;\n",
              "  }\n",
              "\n",
              "  .colab-df-quickchart {\n",
              "    background-color: var(--bg-color);\n",
              "    border: none;\n",
              "    border-radius: 50%;\n",
              "    cursor: pointer;\n",
              "    display: none;\n",
              "    fill: var(--fill-color);\n",
              "    height: 32px;\n",
              "    padding: 0;\n",
              "    width: 32px;\n",
              "  }\n",
              "\n",
              "  .colab-df-quickchart:hover {\n",
              "    background-color: var(--hover-bg-color);\n",
              "    box-shadow: 0 1px 2px rgba(60, 64, 67, 0.3), 0 1px 3px 1px rgba(60, 64, 67, 0.15);\n",
              "    fill: var(--button-hover-fill-color);\n",
              "  }\n",
              "\n",
              "  .colab-df-quickchart-complete:disabled,\n",
              "  .colab-df-quickchart-complete:disabled:hover {\n",
              "    background-color: var(--disabled-bg-color);\n",
              "    fill: var(--disabled-fill-color);\n",
              "    box-shadow: none;\n",
              "  }\n",
              "\n",
              "  .colab-df-spinner {\n",
              "    border: 2px solid var(--fill-color);\n",
              "    border-color: transparent;\n",
              "    border-bottom-color: var(--fill-color);\n",
              "    animation:\n",
              "      spin 1s steps(1) infinite;\n",
              "  }\n",
              "\n",
              "  @keyframes spin {\n",
              "    0% {\n",
              "      border-color: transparent;\n",
              "      border-bottom-color: var(--fill-color);\n",
              "      border-left-color: var(--fill-color);\n",
              "    }\n",
              "    20% {\n",
              "      border-color: transparent;\n",
              "      border-left-color: var(--fill-color);\n",
              "      border-top-color: var(--fill-color);\n",
              "    }\n",
              "    30% {\n",
              "      border-color: transparent;\n",
              "      border-left-color: var(--fill-color);\n",
              "      border-top-color: var(--fill-color);\n",
              "      border-right-color: var(--fill-color);\n",
              "    }\n",
              "    40% {\n",
              "      border-color: transparent;\n",
              "      border-right-color: var(--fill-color);\n",
              "      border-top-color: var(--fill-color);\n",
              "    }\n",
              "    60% {\n",
              "      border-color: transparent;\n",
              "      border-right-color: var(--fill-color);\n",
              "    }\n",
              "    80% {\n",
              "      border-color: transparent;\n",
              "      border-right-color: var(--fill-color);\n",
              "      border-bottom-color: var(--fill-color);\n",
              "    }\n",
              "    90% {\n",
              "      border-color: transparent;\n",
              "      border-bottom-color: var(--fill-color);\n",
              "    }\n",
              "  }\n",
              "</style>\n",
              "\n",
              "  <script>\n",
              "    async function quickchart(key) {\n",
              "      const quickchartButtonEl =\n",
              "        document.querySelector('#' + key + ' button');\n",
              "      quickchartButtonEl.disabled = true;  // To prevent multiple clicks.\n",
              "      quickchartButtonEl.classList.add('colab-df-spinner');\n",
              "      try {\n",
              "        const charts = await google.colab.kernel.invokeFunction(\n",
              "            'suggestCharts', [key], {});\n",
              "      } catch (error) {\n",
              "        console.error('Error during call to suggestCharts:', error);\n",
              "      }\n",
              "      quickchartButtonEl.classList.remove('colab-df-spinner');\n",
              "      quickchartButtonEl.classList.add('colab-df-quickchart-complete');\n",
              "    }\n",
              "    (() => {\n",
              "      let quickchartButtonEl =\n",
              "        document.querySelector('#df-1e3e5ba4-5601-4572-b0e5-7ac4cb74e083 button');\n",
              "      quickchartButtonEl.style.display =\n",
              "        google.colab.kernel.accessAllowed ? 'block' : 'none';\n",
              "    })();\n",
              "  </script>\n",
              "</div>\n",
              "\n",
              "    </div>\n",
              "  </div>\n"
            ],
            "text/plain": [
              "      id  gender   age  hypertension  heart_disease ever_married  \\\n",
              "0   9046    Male  67.0             0              1          Yes   \n",
              "1  51676  Female  61.0             0              0          Yes   \n",
              "2  31112    Male  80.0             0              1          Yes   \n",
              "3  60182  Female  49.0             0              0          Yes   \n",
              "4   1665  Female  79.0             1              0          Yes   \n",
              "\n",
              "       work_type Residence_type  avg_glucose_level   bmi   smoking_status  \\\n",
              "0        Private          Urban             228.69  36.6  formerly smoked   \n",
              "1  Self-employed          Rural             202.21   NaN     never smoked   \n",
              "2        Private          Rural             105.92  32.5     never smoked   \n",
              "3        Private          Urban             171.23  34.4           smokes   \n",
              "4  Self-employed          Rural             174.12  24.0     never smoked   \n",
              "\n",
              "   stroke  \n",
              "0       1  \n",
              "1       1  \n",
              "2       1  \n",
              "3       1  \n",
              "4       1  "
            ]
          },
          "execution_count": 26,
          "metadata": {},
          "output_type": "execute_result"
        }
      ],
      "source": [
        "path = 'healthcare-dataset-stroke-data.csv'\n",
        "data = pd.read_csv(path)\n",
        "data.head()"
      ]
    },
    {
      "cell_type": "markdown",
      "metadata": {
        "id": "r6gAyBGtubI7"
      },
      "source": [
        "# Exploratory Data Analysis"
      ]
    },
    {
      "cell_type": "markdown",
      "metadata": {
        "id": "2925yVCdud0a"
      },
      "source": [
        "### Shape of the data"
      ]
    },
    {
      "cell_type": "markdown",
      "metadata": {
        "id": "yZ0hWvVALJy4"
      },
      "source": [
        "First thing we need to know the shape of our data\n",
        "How many examples and features do we have?"
      ]
    },
    {
      "cell_type": "code",
      "execution_count": null,
      "metadata": {
        "colab": {
          "base_uri": "https://localhost:8080/"
        },
        "id": "8pvWR3PKuQEy",
        "outputId": "56a38824-5d0b-4a30-bb22-f41e0a2972cf"
      },
      "outputs": [
        {
          "name": "stdout",
          "output_type": "stream",
          "text": [
            "5110 12\n"
          ]
        }
      ],
      "source": [
        "nrow= data.shape[0]\n",
        "ncol=len(data.columns)\n",
        "\n",
        "print(nrow, ncol)"
      ]
    },
    {
      "cell_type": "markdown",
      "metadata": {
        "id": "yUy4oI5xukRr"
      },
      "source": [
        "### Types of different Columns"
      ]
    },
    {
      "cell_type": "markdown",
      "metadata": {
        "id": "G1q10ievLTTs"
      },
      "source": [
        "\n",
        " Check the type of each feature."
      ]
    },
    {
      "cell_type": "code",
      "execution_count": null,
      "metadata": {
        "colab": {
          "base_uri": "https://localhost:8080/"
        },
        "id": "_8snoohouhUP",
        "outputId": "88d2729b-9ed1-4b57-c1d0-5d882ab43967"
      },
      "outputs": [
        {
          "name": "stdout",
          "output_type": "stream",
          "text": [
            "<class 'pandas.core.frame.DataFrame'>\n",
            "RangeIndex: 5110 entries, 0 to 5109\n",
            "Data columns (total 12 columns):\n",
            " #   Column             Non-Null Count  Dtype  \n",
            "---  ------             --------------  -----  \n",
            " 0   id                 5110 non-null   int64  \n",
            " 1   gender             5110 non-null   object \n",
            " 2   age                5110 non-null   float64\n",
            " 3   hypertension       5110 non-null   int64  \n",
            " 4   heart_disease      5110 non-null   int64  \n",
            " 5   ever_married       5110 non-null   object \n",
            " 6   work_type          5110 non-null   object \n",
            " 7   Residence_type     5110 non-null   object \n",
            " 8   avg_glucose_level  5110 non-null   float64\n",
            " 9   bmi                4909 non-null   float64\n",
            " 10  smoking_status     5110 non-null   object \n",
            " 11  stroke             5110 non-null   int64  \n",
            "dtypes: float64(3), int64(4), object(5)\n",
            "memory usage: 479.2+ KB\n"
          ]
        }
      ],
      "source": [
        "data.info()\n",
        "\n"
      ]
    },
    {
      "cell_type": "markdown",
      "metadata": {
        "id": "nkrEh6RYygms"
      },
      "source": [
        "### Dealing with categorical variables"
      ]
    },
    {
      "cell_type": "markdown",
      "metadata": {
        "id": "v_kBYl7ItLGt"
      },
      "source": [
        " Use the .value_counts() functions to walk through the categorical variables that we have to see the categories and the counts of each of them."
      ]
    },
    {
      "cell_type": "code",
      "execution_count": null,
      "metadata": {
        "colab": {
          "base_uri": "https://localhost:8080/"
        },
        "id": "DlSfSQ35ykgc",
        "outputId": "5805ca88-b1ee-4035-fd21-75e2205dc225"
      },
      "outputs": [
        {
          "data": {
            "text/plain": [
              "never smoked       1892\n",
              "Unknown            1544\n",
              "formerly smoked     885\n",
              "smokes              789\n",
              "Name: smoking_status, dtype: int64"
            ]
          },
          "execution_count": 29,
          "metadata": {},
          "output_type": "execute_result"
        }
      ],
      "source": [
        "smoking_types = data.smoking_status.value_counts()\n",
        "smoking_types"
      ]
    },
    {
      "cell_type": "code",
      "execution_count": null,
      "metadata": {
        "colab": {
          "base_uri": "https://localhost:8080/"
        },
        "id": "Yg0xlLNUy7AF",
        "outputId": "5dce4137-a658-47cd-e437-fcebe8c8c089"
      },
      "outputs": [
        {
          "data": {
            "text/plain": [
              "Urban    2596\n",
              "Rural    2514\n",
              "Name: Residence_type, dtype: int64"
            ]
          },
          "execution_count": 30,
          "metadata": {},
          "output_type": "execute_result"
        }
      ],
      "source": [
        "residence_types =data.Residence_type.value_counts()\n",
        "residence_types"
      ]
    },
    {
      "cell_type": "code",
      "execution_count": null,
      "metadata": {
        "colab": {
          "base_uri": "https://localhost:8080/"
        },
        "id": "T72r_mkrzF9V",
        "outputId": "0240b3be-cf7b-4c72-e1e7-d010ecf64c5f"
      },
      "outputs": [
        {
          "data": {
            "text/plain": [
              "Private          2925\n",
              "Self-employed     819\n",
              "children          687\n",
              "Govt_job          657\n",
              "Never_worked       22\n",
              "Name: work_type, dtype: int64"
            ]
          },
          "execution_count": 31,
          "metadata": {},
          "output_type": "execute_result"
        }
      ],
      "source": [
        "work_types =data.work_type.value_counts()\n",
        "work_types"
      ]
    },
    {
      "cell_type": "code",
      "execution_count": null,
      "metadata": {
        "colab": {
          "base_uri": "https://localhost:8080/"
        },
        "id": "Z0kpR57LzQE9",
        "outputId": "4b1b7e8d-a4fb-4553-8fa4-19b857e1d7bd"
      },
      "outputs": [
        {
          "data": {
            "text/plain": [
              "Yes    3353\n",
              "No     1757\n",
              "Name: ever_married, dtype: int64"
            ]
          },
          "execution_count": 32,
          "metadata": {},
          "output_type": "execute_result"
        }
      ],
      "source": [
        "married_types =data.ever_married.value_counts()\n",
        "married_types"
      ]
    },
    {
      "cell_type": "code",
      "execution_count": null,
      "metadata": {
        "colab": {
          "base_uri": "https://localhost:8080/"
        },
        "id": "fQIoAs8y3igG",
        "outputId": "058ddb3f-3621-414d-c0d1-0c36ab0ce642"
      },
      "outputs": [
        {
          "data": {
            "text/plain": [
              "0    4612\n",
              "1     498\n",
              "Name: hypertension, dtype: int64"
            ]
          },
          "execution_count": 33,
          "metadata": {},
          "output_type": "execute_result"
        }
      ],
      "source": [
        "hypertension =data.hypertension.value_counts()\n",
        "hypertension"
      ]
    },
    {
      "cell_type": "code",
      "execution_count": null,
      "metadata": {
        "colab": {
          "base_uri": "https://localhost:8080/"
        },
        "id": "xEhNH46j3p3Y",
        "outputId": "71fde758-494c-44e7-b314-31e2ea1b7e7c"
      },
      "outputs": [
        {
          "data": {
            "text/plain": [
              "0    4834\n",
              "1     276\n",
              "Name: heart_disease, dtype: int64"
            ]
          },
          "execution_count": 34,
          "metadata": {},
          "output_type": "execute_result"
        }
      ],
      "source": [
        "heart_disease= data.heart_disease.value_counts()\n",
        "heart_disease"
      ]
    },
    {
      "cell_type": "code",
      "execution_count": null,
      "metadata": {
        "colab": {
          "base_uri": "https://localhost:8080/"
        },
        "id": "8cI7uJvA3Njv",
        "outputId": "8eb96741-fd28-4799-d9d6-6819f48680f9"
      },
      "outputs": [
        {
          "data": {
            "text/plain": [
              "0    4861\n",
              "1     249\n",
              "Name: stroke, dtype: int64"
            ]
          },
          "execution_count": 35,
          "metadata": {},
          "output_type": "execute_result"
        }
      ],
      "source": [
        "stroke=data.stroke.value_counts()\n",
        "stroke"
      ]
    },
    {
      "cell_type": "markdown",
      "metadata": {
        "id": "_jFIiKPvllld"
      },
      "source": [
        "# Preprocessing"
      ]
    },
    {
      "cell_type": "markdown",
      "metadata": {
        "id": "JsQQj-wVlkjS"
      },
      "source": [
        "### Dealing with Nulls"
      ]
    },
    {
      "cell_type": "markdown",
      "metadata": {
        "id": "wdlRc672lgI4"
      },
      "source": [
        " The bmi column contains nulls. Fill it with the appropriate measure."
      ]
    },
    {
      "cell_type": "code",
      "execution_count": null,
      "metadata": {
        "colab": {
          "base_uri": "https://localhost:8080/"
        },
        "id": "7UDrnGK6lYiE",
        "outputId": "b2b52edd-a146-4b2d-ef37-097375f6646a"
      },
      "outputs": [
        {
          "name": "stdout",
          "output_type": "stream",
          "text": [
            "         id  gender   age  hypertension  heart_disease ever_married  \\\n",
            "0      9046    Male  67.0             0              1          Yes   \n",
            "1     51676  Female  61.0             0              0          Yes   \n",
            "2     31112    Male  80.0             0              1          Yes   \n",
            "3     60182  Female  49.0             0              0          Yes   \n",
            "4      1665  Female  79.0             1              0          Yes   \n",
            "...     ...     ...   ...           ...            ...          ...   \n",
            "5105  18234  Female  80.0             1              0          Yes   \n",
            "5106  44873  Female  81.0             0              0          Yes   \n",
            "5107  19723  Female  35.0             0              0          Yes   \n",
            "5108  37544    Male  51.0             0              0          Yes   \n",
            "5109  44679  Female  44.0             0              0          Yes   \n",
            "\n",
            "          work_type Residence_type  avg_glucose_level        bmi  \\\n",
            "0           Private          Urban             228.69  36.600000   \n",
            "1     Self-employed          Rural             202.21  28.893237   \n",
            "2           Private          Rural             105.92  32.500000   \n",
            "3           Private          Urban             171.23  34.400000   \n",
            "4     Self-employed          Rural             174.12  24.000000   \n",
            "...             ...            ...                ...        ...   \n",
            "5105        Private          Urban              83.75  28.893237   \n",
            "5106  Self-employed          Urban             125.20  40.000000   \n",
            "5107  Self-employed          Rural              82.99  30.600000   \n",
            "5108        Private          Rural             166.29  25.600000   \n",
            "5109       Govt_job          Urban              85.28  26.200000   \n",
            "\n",
            "       smoking_status  stroke  \n",
            "0     formerly smoked       1  \n",
            "1        never smoked       1  \n",
            "2        never smoked       1  \n",
            "3              smokes       1  \n",
            "4        never smoked       1  \n",
            "...               ...     ...  \n",
            "5105     never smoked       0  \n",
            "5106     never smoked       0  \n",
            "5107     never smoked       0  \n",
            "5108  formerly smoked       0  \n",
            "5109          Unknown       0  \n",
            "\n",
            "[5110 rows x 12 columns]\n"
          ]
        }
      ],
      "source": [
        "data['bmi'].fillna( data['bmi'].mean(), inplace=True)\n",
        "print(data) #just to check"
      ]
    },
    {
      "cell_type": "markdown",
      "metadata": {
        "id": "21da4C_Bzd-u"
      },
      "source": [
        "#### Encoding Categorical Features"
      ]
    },
    {
      "cell_type": "markdown",
      "metadata": {
        "id": "UaNk4gWCLqe4"
      },
      "source": [
        " Here you have to encode those categorical variables to be able to use them to train your DL model."
      ]
    },
    {
      "cell_type": "code",
      "execution_count": null,
      "metadata": {
        "colab": {
          "base_uri": "https://localhost:8080/"
        },
        "id": "6nJtOvxdzi_G",
        "outputId": "64571426-da8f-4217-cb4c-bdb70041e170"
      },
      "outputs": [
        {
          "name": "stdout",
          "output_type": "stream",
          "text": [
            "         id  gender   age  hypertension  heart_disease  ever_married  \\\n",
            "0      9046       1  67.0             0              1             1   \n",
            "1     51676       0  61.0             0              0             1   \n",
            "2     31112       1  80.0             0              1             1   \n",
            "3     60182       0  49.0             0              0             1   \n",
            "4      1665       0  79.0             1              0             1   \n",
            "...     ...     ...   ...           ...            ...           ...   \n",
            "5105  18234       0  80.0             1              0             1   \n",
            "5106  44873       0  81.0             0              0             1   \n",
            "5107  19723       0  35.0             0              0             1   \n",
            "5108  37544       1  51.0             0              0             1   \n",
            "5109  44679       0  44.0             0              0             1   \n",
            "\n",
            "      work_type  Residence_type  avg_glucose_level        bmi  smoking_status  \\\n",
            "0             2               1             228.69  36.600000               1   \n",
            "1             3               0             202.21  28.893237               2   \n",
            "2             2               0             105.92  32.500000               2   \n",
            "3             2               1             171.23  34.400000               3   \n",
            "4             3               0             174.12  24.000000               2   \n",
            "...         ...             ...                ...        ...             ...   \n",
            "5105          2               1              83.75  28.893237               2   \n",
            "5106          3               1             125.20  40.000000               2   \n",
            "5107          3               0              82.99  30.600000               2   \n",
            "5108          2               0             166.29  25.600000               1   \n",
            "5109          0               1              85.28  26.200000               0   \n",
            "\n",
            "      stroke  \n",
            "0          1  \n",
            "1          1  \n",
            "2          1  \n",
            "3          1  \n",
            "4          1  \n",
            "...      ...  \n",
            "5105       0  \n",
            "5106       0  \n",
            "5107       0  \n",
            "5108       0  \n",
            "5109       0  \n",
            "\n",
            "[5110 rows x 12 columns]\n"
          ]
        }
      ],
      "source": [
        "from sklearn import preprocessing\n",
        "\n",
        "encoder = preprocessing.LabelEncoder()\n",
        "data['smoking_status'] =preprocessing.LabelEncoder().fit_transform(data['smoking_status'])\n",
        "data['Residence_type'] =preprocessing.LabelEncoder().fit_transform(data['Residence_type'])\n",
        "data['work_type'] = preprocessing.LabelEncoder().fit_transform(data['work_type'])\n",
        "data['ever_married'] =preprocessing.LabelEncoder().fit_transform(data['ever_married'])\n",
        "data['gender'] = preprocessing.LabelEncoder().fit_transform(data['gender'])\n",
        "\n",
        "print(data)"
      ]
    },
    {
      "cell_type": "markdown",
      "metadata": {
        "id": "d1GOfAgt4M-Q"
      },
      "source": [
        "### Normalizing Features"
      ]
    },
    {
      "cell_type": "markdown",
      "metadata": {
        "id": "EPpkMCXELwty"
      },
      "source": [
        " Normalize the input data"
      ]
    },
    {
      "cell_type": "code",
      "execution_count": null,
      "metadata": {
        "colab": {
          "base_uri": "https://localhost:8080/",
          "height": 320
        },
        "id": "BtI_XA-m33Bx",
        "outputId": "b1ba4f03-48d4-43d1-9bd4-0b17e1807591"
      },
      "outputs": [
        {
          "data": {
            "text/html": [
              "\n",
              "  <div id=\"df-d02ea698-c3ca-470f-bb26-46a9fa1f2c60\" class=\"colab-df-container\">\n",
              "    <div>\n",
              "<style scoped>\n",
              "    .dataframe tbody tr th:only-of-type {\n",
              "        vertical-align: middle;\n",
              "    }\n",
              "\n",
              "    .dataframe tbody tr th {\n",
              "        vertical-align: top;\n",
              "    }\n",
              "\n",
              "    .dataframe thead th {\n",
              "        text-align: right;\n",
              "    }\n",
              "</style>\n",
              "<table border=\"1\" class=\"dataframe\">\n",
              "  <thead>\n",
              "    <tr style=\"text-align: right;\">\n",
              "      <th></th>\n",
              "      <th>id</th>\n",
              "      <th>gender</th>\n",
              "      <th>age</th>\n",
              "      <th>hypertension</th>\n",
              "      <th>heart_disease</th>\n",
              "      <th>ever_married</th>\n",
              "      <th>work_type</th>\n",
              "      <th>Residence_type</th>\n",
              "      <th>avg_glucose_level</th>\n",
              "      <th>bmi</th>\n",
              "      <th>smoking_status</th>\n",
              "      <th>stroke</th>\n",
              "    </tr>\n",
              "  </thead>\n",
              "  <tbody>\n",
              "    <tr>\n",
              "      <th>count</th>\n",
              "      <td>5110.000000</td>\n",
              "      <td>5110.000000</td>\n",
              "      <td>5110.000000</td>\n",
              "      <td>5110.000000</td>\n",
              "      <td>5110.000000</td>\n",
              "      <td>5110.000000</td>\n",
              "      <td>5110.000000</td>\n",
              "      <td>5110.000000</td>\n",
              "      <td>5110.000000</td>\n",
              "      <td>5110.000000</td>\n",
              "      <td>5110.000000</td>\n",
              "      <td>5110.000000</td>\n",
              "    </tr>\n",
              "    <tr>\n",
              "      <th>mean</th>\n",
              "      <td>0.500656</td>\n",
              "      <td>0.207143</td>\n",
              "      <td>0.527154</td>\n",
              "      <td>0.097456</td>\n",
              "      <td>0.054012</td>\n",
              "      <td>0.656164</td>\n",
              "      <td>0.541928</td>\n",
              "      <td>0.508023</td>\n",
              "      <td>0.390622</td>\n",
              "      <td>0.296037</td>\n",
              "      <td>0.458969</td>\n",
              "      <td>0.048728</td>\n",
              "    </tr>\n",
              "    <tr>\n",
              "      <th>std</th>\n",
              "      <td>0.290125</td>\n",
              "      <td>0.246522</td>\n",
              "      <td>0.275764</td>\n",
              "      <td>0.296607</td>\n",
              "      <td>0.226063</td>\n",
              "      <td>0.475034</td>\n",
              "      <td>0.272573</td>\n",
              "      <td>0.499985</td>\n",
              "      <td>0.166643</td>\n",
              "      <td>0.078873</td>\n",
              "      <td>0.357178</td>\n",
              "      <td>0.215320</td>\n",
              "    </tr>\n",
              "    <tr>\n",
              "      <th>min</th>\n",
              "      <td>0.000919</td>\n",
              "      <td>0.000000</td>\n",
              "      <td>0.000976</td>\n",
              "      <td>0.000000</td>\n",
              "      <td>0.000000</td>\n",
              "      <td>0.000000</td>\n",
              "      <td>0.000000</td>\n",
              "      <td>0.000000</td>\n",
              "      <td>0.202841</td>\n",
              "      <td>0.105533</td>\n",
              "      <td>0.000000</td>\n",
              "      <td>0.000000</td>\n",
              "    </tr>\n",
              "    <tr>\n",
              "      <th>25%</th>\n",
              "      <td>0.243231</td>\n",
              "      <td>0.000000</td>\n",
              "      <td>0.304878</td>\n",
              "      <td>0.000000</td>\n",
              "      <td>0.000000</td>\n",
              "      <td>0.000000</td>\n",
              "      <td>0.500000</td>\n",
              "      <td>0.000000</td>\n",
              "      <td>0.284261</td>\n",
              "      <td>0.243852</td>\n",
              "      <td>0.000000</td>\n",
              "      <td>0.000000</td>\n",
              "    </tr>\n",
              "    <tr>\n",
              "      <th>50%</th>\n",
              "      <td>0.506334</td>\n",
              "      <td>0.000000</td>\n",
              "      <td>0.548780</td>\n",
              "      <td>0.000000</td>\n",
              "      <td>0.000000</td>\n",
              "      <td>1.000000</td>\n",
              "      <td>0.500000</td>\n",
              "      <td>1.000000</td>\n",
              "      <td>0.338136</td>\n",
              "      <td>0.290984</td>\n",
              "      <td>0.666667</td>\n",
              "      <td>0.000000</td>\n",
              "    </tr>\n",
              "    <tr>\n",
              "      <th>75%</th>\n",
              "      <td>0.749685</td>\n",
              "      <td>0.500000</td>\n",
              "      <td>0.743902</td>\n",
              "      <td>0.000000</td>\n",
              "      <td>0.000000</td>\n",
              "      <td>1.000000</td>\n",
              "      <td>0.750000</td>\n",
              "      <td>1.000000</td>\n",
              "      <td>0.419850</td>\n",
              "      <td>0.336066</td>\n",
              "      <td>0.666667</td>\n",
              "      <td>0.000000</td>\n",
              "    </tr>\n",
              "    <tr>\n",
              "      <th>max</th>\n",
              "      <td>1.000000</td>\n",
              "      <td>1.000000</td>\n",
              "      <td>1.000000</td>\n",
              "      <td>1.000000</td>\n",
              "      <td>1.000000</td>\n",
              "      <td>1.000000</td>\n",
              "      <td>1.000000</td>\n",
              "      <td>1.000000</td>\n",
              "      <td>1.000000</td>\n",
              "      <td>1.000000</td>\n",
              "      <td>1.000000</td>\n",
              "      <td>1.000000</td>\n",
              "    </tr>\n",
              "  </tbody>\n",
              "</table>\n",
              "</div>\n",
              "    <div class=\"colab-df-buttons\">\n",
              "\n",
              "  <div class=\"colab-df-container\">\n",
              "    <button class=\"colab-df-convert\" onclick=\"convertToInteractive('df-d02ea698-c3ca-470f-bb26-46a9fa1f2c60')\"\n",
              "            title=\"Convert this dataframe to an interactive table.\"\n",
              "            style=\"display:none;\">\n",
              "\n",
              "  <svg xmlns=\"http://www.w3.org/2000/svg\" height=\"24px\" viewBox=\"0 -960 960 960\">\n",
              "    <path d=\"M120-120v-720h720v720H120Zm60-500h600v-160H180v160Zm220 220h160v-160H400v160Zm0 220h160v-160H400v160ZM180-400h160v-160H180v160Zm440 0h160v-160H620v160ZM180-180h160v-160H180v160Zm440 0h160v-160H620v160Z\"/>\n",
              "  </svg>\n",
              "    </button>\n",
              "\n",
              "  <style>\n",
              "    .colab-df-container {\n",
              "      display:flex;\n",
              "      gap: 12px;\n",
              "    }\n",
              "\n",
              "    .colab-df-convert {\n",
              "      background-color: #E8F0FE;\n",
              "      border: none;\n",
              "      border-radius: 50%;\n",
              "      cursor: pointer;\n",
              "      display: none;\n",
              "      fill: #1967D2;\n",
              "      height: 32px;\n",
              "      padding: 0 0 0 0;\n",
              "      width: 32px;\n",
              "    }\n",
              "\n",
              "    .colab-df-convert:hover {\n",
              "      background-color: #E2EBFA;\n",
              "      box-shadow: 0px 1px 2px rgba(60, 64, 67, 0.3), 0px 1px 3px 1px rgba(60, 64, 67, 0.15);\n",
              "      fill: #174EA6;\n",
              "    }\n",
              "\n",
              "    .colab-df-buttons div {\n",
              "      margin-bottom: 4px;\n",
              "    }\n",
              "\n",
              "    [theme=dark] .colab-df-convert {\n",
              "      background-color: #3B4455;\n",
              "      fill: #D2E3FC;\n",
              "    }\n",
              "\n",
              "    [theme=dark] .colab-df-convert:hover {\n",
              "      background-color: #434B5C;\n",
              "      box-shadow: 0px 1px 3px 1px rgba(0, 0, 0, 0.15);\n",
              "      filter: drop-shadow(0px 1px 2px rgba(0, 0, 0, 0.3));\n",
              "      fill: #FFFFFF;\n",
              "    }\n",
              "  </style>\n",
              "\n",
              "    <script>\n",
              "      const buttonEl =\n",
              "        document.querySelector('#df-d02ea698-c3ca-470f-bb26-46a9fa1f2c60 button.colab-df-convert');\n",
              "      buttonEl.style.display =\n",
              "        google.colab.kernel.accessAllowed ? 'block' : 'none';\n",
              "\n",
              "      async function convertToInteractive(key) {\n",
              "        const element = document.querySelector('#df-d02ea698-c3ca-470f-bb26-46a9fa1f2c60');\n",
              "        const dataTable =\n",
              "          await google.colab.kernel.invokeFunction('convertToInteractive',\n",
              "                                                    [key], {});\n",
              "        if (!dataTable) return;\n",
              "\n",
              "        const docLinkHtml = 'Like what you see? Visit the ' +\n",
              "          '<a target=\"_blank\" href=https://colab.research.google.com/notebooks/data_table.ipynb>data table notebook</a>'\n",
              "          + ' to learn more about interactive tables.';\n",
              "        element.innerHTML = '';\n",
              "        dataTable['output_type'] = 'display_data';\n",
              "        await google.colab.output.renderOutput(dataTable, element);\n",
              "        const docLink = document.createElement('div');\n",
              "        docLink.innerHTML = docLinkHtml;\n",
              "        element.appendChild(docLink);\n",
              "      }\n",
              "    </script>\n",
              "  </div>\n",
              "\n",
              "\n",
              "<div id=\"df-4a1e9b20-90a7-40d3-a7a3-0ba361a2f1f3\">\n",
              "  <button class=\"colab-df-quickchart\" onclick=\"quickchart('df-4a1e9b20-90a7-40d3-a7a3-0ba361a2f1f3')\"\n",
              "            title=\"Suggest charts\"\n",
              "            style=\"display:none;\">\n",
              "\n",
              "<svg xmlns=\"http://www.w3.org/2000/svg\" height=\"24px\"viewBox=\"0 0 24 24\"\n",
              "     width=\"24px\">\n",
              "    <g>\n",
              "        <path d=\"M19 3H5c-1.1 0-2 .9-2 2v14c0 1.1.9 2 2 2h14c1.1 0 2-.9 2-2V5c0-1.1-.9-2-2-2zM9 17H7v-7h2v7zm4 0h-2V7h2v10zm4 0h-2v-4h2v4z\"/>\n",
              "    </g>\n",
              "</svg>\n",
              "  </button>\n",
              "\n",
              "<style>\n",
              "  .colab-df-quickchart {\n",
              "      --bg-color: #E8F0FE;\n",
              "      --fill-color: #1967D2;\n",
              "      --hover-bg-color: #E2EBFA;\n",
              "      --hover-fill-color: #174EA6;\n",
              "      --disabled-fill-color: #AAA;\n",
              "      --disabled-bg-color: #DDD;\n",
              "  }\n",
              "\n",
              "  [theme=dark] .colab-df-quickchart {\n",
              "      --bg-color: #3B4455;\n",
              "      --fill-color: #D2E3FC;\n",
              "      --hover-bg-color: #434B5C;\n",
              "      --hover-fill-color: #FFFFFF;\n",
              "      --disabled-bg-color: #3B4455;\n",
              "      --disabled-fill-color: #666;\n",
              "  }\n",
              "\n",
              "  .colab-df-quickchart {\n",
              "    background-color: var(--bg-color);\n",
              "    border: none;\n",
              "    border-radius: 50%;\n",
              "    cursor: pointer;\n",
              "    display: none;\n",
              "    fill: var(--fill-color);\n",
              "    height: 32px;\n",
              "    padding: 0;\n",
              "    width: 32px;\n",
              "  }\n",
              "\n",
              "  .colab-df-quickchart:hover {\n",
              "    background-color: var(--hover-bg-color);\n",
              "    box-shadow: 0 1px 2px rgba(60, 64, 67, 0.3), 0 1px 3px 1px rgba(60, 64, 67, 0.15);\n",
              "    fill: var(--button-hover-fill-color);\n",
              "  }\n",
              "\n",
              "  .colab-df-quickchart-complete:disabled,\n",
              "  .colab-df-quickchart-complete:disabled:hover {\n",
              "    background-color: var(--disabled-bg-color);\n",
              "    fill: var(--disabled-fill-color);\n",
              "    box-shadow: none;\n",
              "  }\n",
              "\n",
              "  .colab-df-spinner {\n",
              "    border: 2px solid var(--fill-color);\n",
              "    border-color: transparent;\n",
              "    border-bottom-color: var(--fill-color);\n",
              "    animation:\n",
              "      spin 1s steps(1) infinite;\n",
              "  }\n",
              "\n",
              "  @keyframes spin {\n",
              "    0% {\n",
              "      border-color: transparent;\n",
              "      border-bottom-color: var(--fill-color);\n",
              "      border-left-color: var(--fill-color);\n",
              "    }\n",
              "    20% {\n",
              "      border-color: transparent;\n",
              "      border-left-color: var(--fill-color);\n",
              "      border-top-color: var(--fill-color);\n",
              "    }\n",
              "    30% {\n",
              "      border-color: transparent;\n",
              "      border-left-color: var(--fill-color);\n",
              "      border-top-color: var(--fill-color);\n",
              "      border-right-color: var(--fill-color);\n",
              "    }\n",
              "    40% {\n",
              "      border-color: transparent;\n",
              "      border-right-color: var(--fill-color);\n",
              "      border-top-color: var(--fill-color);\n",
              "    }\n",
              "    60% {\n",
              "      border-color: transparent;\n",
              "      border-right-color: var(--fill-color);\n",
              "    }\n",
              "    80% {\n",
              "      border-color: transparent;\n",
              "      border-right-color: var(--fill-color);\n",
              "      border-bottom-color: var(--fill-color);\n",
              "    }\n",
              "    90% {\n",
              "      border-color: transparent;\n",
              "      border-bottom-color: var(--fill-color);\n",
              "    }\n",
              "  }\n",
              "</style>\n",
              "\n",
              "  <script>\n",
              "    async function quickchart(key) {\n",
              "      const quickchartButtonEl =\n",
              "        document.querySelector('#' + key + ' button');\n",
              "      quickchartButtonEl.disabled = true;  // To prevent multiple clicks.\n",
              "      quickchartButtonEl.classList.add('colab-df-spinner');\n",
              "      try {\n",
              "        const charts = await google.colab.kernel.invokeFunction(\n",
              "            'suggestCharts', [key], {});\n",
              "      } catch (error) {\n",
              "        console.error('Error during call to suggestCharts:', error);\n",
              "      }\n",
              "      quickchartButtonEl.classList.remove('colab-df-spinner');\n",
              "      quickchartButtonEl.classList.add('colab-df-quickchart-complete');\n",
              "    }\n",
              "    (() => {\n",
              "      let quickchartButtonEl =\n",
              "        document.querySelector('#df-4a1e9b20-90a7-40d3-a7a3-0ba361a2f1f3 button');\n",
              "      quickchartButtonEl.style.display =\n",
              "        google.colab.kernel.accessAllowed ? 'block' : 'none';\n",
              "    })();\n",
              "  </script>\n",
              "</div>\n",
              "\n",
              "    </div>\n",
              "  </div>\n"
            ],
            "text/plain": [
              "                id       gender          age  hypertension  heart_disease  \\\n",
              "count  5110.000000  5110.000000  5110.000000   5110.000000    5110.000000   \n",
              "mean      0.500656     0.207143     0.527154      0.097456       0.054012   \n",
              "std       0.290125     0.246522     0.275764      0.296607       0.226063   \n",
              "min       0.000919     0.000000     0.000976      0.000000       0.000000   \n",
              "25%       0.243231     0.000000     0.304878      0.000000       0.000000   \n",
              "50%       0.506334     0.000000     0.548780      0.000000       0.000000   \n",
              "75%       0.749685     0.500000     0.743902      0.000000       0.000000   \n",
              "max       1.000000     1.000000     1.000000      1.000000       1.000000   \n",
              "\n",
              "       ever_married    work_type  Residence_type  avg_glucose_level  \\\n",
              "count   5110.000000  5110.000000     5110.000000        5110.000000   \n",
              "mean       0.656164     0.541928        0.508023           0.390622   \n",
              "std        0.475034     0.272573        0.499985           0.166643   \n",
              "min        0.000000     0.000000        0.000000           0.202841   \n",
              "25%        0.000000     0.500000        0.000000           0.284261   \n",
              "50%        1.000000     0.500000        1.000000           0.338136   \n",
              "75%        1.000000     0.750000        1.000000           0.419850   \n",
              "max        1.000000     1.000000        1.000000           1.000000   \n",
              "\n",
              "               bmi  smoking_status       stroke  \n",
              "count  5110.000000     5110.000000  5110.000000  \n",
              "mean      0.296037        0.458969     0.048728  \n",
              "std       0.078873        0.357178     0.215320  \n",
              "min       0.105533        0.000000     0.000000  \n",
              "25%       0.243852        0.000000     0.000000  \n",
              "50%       0.290984        0.666667     0.000000  \n",
              "75%       0.336066        0.666667     0.000000  \n",
              "max       1.000000        1.000000     1.000000  "
            ]
          },
          "execution_count": 38,
          "metadata": {},
          "output_type": "execute_result"
        }
      ],
      "source": [
        "data = data/data.max()\n",
        "data.describe()"
      ]
    },
    {
      "cell_type": "markdown",
      "metadata": {
        "id": "KICuY0lg5nUD"
      },
      "source": [
        "### Removing Unnecessary Features"
      ]
    },
    {
      "cell_type": "markdown",
      "metadata": {
        "id": "ua71U2YxL5Ls"
      },
      "source": [
        " From the features that you have, remove the feature(s) that is(are) irrelevant to your predictions."
      ]
    },
    {
      "cell_type": "code",
      "execution_count": null,
      "metadata": {
        "colab": {
          "base_uri": "https://localhost:8080/"
        },
        "id": "8AHNqYbh5sE7",
        "outputId": "6a5ed4e2-db45-4ef9-84a6-79d9e0da3eb9"
      },
      "outputs": [
        {
          "name": "stdout",
          "output_type": "stream",
          "text": [
            "      gender       age  hypertension  heart_disease  ever_married  work_type  \\\n",
            "0        0.5  0.817073           0.0            1.0           1.0       0.50   \n",
            "1        0.0  0.743902           0.0            0.0           1.0       0.75   \n",
            "2        0.5  0.975610           0.0            1.0           1.0       0.50   \n",
            "3        0.0  0.597561           0.0            0.0           1.0       0.50   \n",
            "4        0.0  0.963415           1.0            0.0           1.0       0.75   \n",
            "...      ...       ...           ...            ...           ...        ...   \n",
            "5105     0.0  0.975610           1.0            0.0           1.0       0.50   \n",
            "5106     0.0  0.987805           0.0            0.0           1.0       0.75   \n",
            "5107     0.0  0.426829           0.0            0.0           1.0       0.75   \n",
            "5108     0.5  0.621951           0.0            0.0           1.0       0.50   \n",
            "5109     0.0  0.536585           0.0            0.0           1.0       0.00   \n",
            "\n",
            "      Residence_type  avg_glucose_level       bmi  smoking_status  stroke  \n",
            "0                1.0           0.841577  0.375000        0.333333     1.0  \n",
            "1                0.0           0.744130  0.296037        0.666667     1.0  \n",
            "2                0.0           0.389784  0.332992        0.666667     1.0  \n",
            "3                1.0           0.630124  0.352459        1.000000     1.0  \n",
            "4                0.0           0.640760  0.245902        0.666667     1.0  \n",
            "...              ...                ...       ...             ...     ...  \n",
            "5105             1.0           0.308199  0.296037        0.666667     0.0  \n",
            "5106             1.0           0.460735  0.409836        0.666667     0.0  \n",
            "5107             0.0           0.305402  0.313525        0.666667     0.0  \n",
            "5108             0.0           0.611945  0.262295        0.333333     0.0  \n",
            "5109             1.0           0.313829  0.268443        0.000000     0.0  \n",
            "\n",
            "[5110 rows x 11 columns]\n"
          ]
        }
      ],
      "source": [
        "data = data.drop( ['id'], axis=1)\n",
        "\n",
        "print(data)"
      ]
    },
    {
      "cell_type": "markdown",
      "metadata": {
        "id": "5k-KoLpH5C9R"
      },
      "source": [
        "# Building the DL Model"
      ]
    },
    {
      "cell_type": "markdown",
      "metadata": {
        "id": "uI2VtlafMBeN"
      },
      "source": [
        "Now it's time to build the actual model, and observe a summary of it."
      ]
    },
    {
      "cell_type": "code",
      "execution_count": null,
      "metadata": {
        "colab": {
          "base_uri": "https://localhost:8080/"
        },
        "id": "AZvKqqT65E0W",
        "outputId": "c89d21a0-22e4-4287-b701-c2fdc1ad4523"
      },
      "outputs": [
        {
          "name": "stdout",
          "output_type": "stream",
          "text": [
            "Model: \"sequential\"\n",
            "_________________________________________________________________\n",
            " Layer (type)                Output Shape              Param #   \n",
            "=================================================================\n",
            " dense (Dense)               (None, 32)                352       \n",
            "                                                                 \n",
            " dense_1 (Dense)             (None, 16)                528       \n",
            "                                                                 \n",
            " dense_2 (Dense)             (None, 8)                 136       \n",
            "                                                                 \n",
            " dense_3 (Dense)             (None, 4)                 36        \n",
            "                                                                 \n",
            " dense_4 (Dense)             (None, 2)                 10        \n",
            "                                                                 \n",
            " dense_5 (Dense)             (None, 1)                 3         \n",
            "                                                                 \n",
            "=================================================================\n",
            "Total params: 1065 (4.16 KB)\n",
            "Trainable params: 1065 (4.16 KB)\n",
            "Non-trainable params: 0 (0.00 Byte)\n",
            "_________________________________________________________________\n"
          ]
        }
      ],
      "source": [
        "import tensorflow as tf\n",
        "from tensorflow.keras.models import Sequential\n",
        "from tensorflow.keras.layers import Dense\n",
        "\n",
        "model = Sequential()\n",
        "\n",
        "model.add(Dense(32, input_dim=10, activation='relu'))\n",
        "model.add(Dense(16, activation='relu'))\n",
        "model.add(Dense(8, activation='relu'))\n",
        "model.add(Dense(4, activation='relu'))\n",
        "model.add(Dense(2, activation='relu'))\n",
        "model.add(Dense(1, activation='sigmoid'))\n",
        "\n",
        "model.summary()"
      ]
    },
    {
      "cell_type": "markdown",
      "metadata": {
        "id": "AD57fE2n7QP4"
      },
      "source": [
        "### Compiling the model"
      ]
    },
    {
      "cell_type": "markdown",
      "metadata": {
        "id": "seGmh1x1-qH9"
      },
      "source": [
        "  Now we compile the model. Here we want to measure the accuracy as well as the precision and recall to know better about the performance of our model."
      ]
    },
    {
      "cell_type": "code",
      "execution_count": null,
      "metadata": {
        "id": "woSsSTEm61_U"
      },
      "outputs": [],
      "source": [
        "model.compile(optimizer='adam' ,loss='binary_crossentropy' ,metrics=['accuracy',tf.keras.metrics.Precision(),tf.keras.metrics.Recall()          ])"
      ]
    },
    {
      "cell_type": "markdown",
      "metadata": {
        "id": "U5zevRH57X8v"
      },
      "source": [
        "### Fitting the model"
      ]
    },
    {
      "cell_type": "markdown",
      "metadata": {
        "id": "UhaEU26KMUWK"
      },
      "source": [
        " Split the data and train the model\n",
        "\n",
        "We take the first columns as features and the last column as a label, then we split our dataset between training (70%) and testing (30%)."
      ]
    },
    {
      "cell_type": "code",
      "execution_count": null,
      "metadata": {
        "id": "rsVOVfn47MLn"
      },
      "outputs": [],
      "source": [
        "from sklearn.model_selection import train_test_split\n",
        "\n",
        "x = data.iloc[:,:-1]\n",
        "y = data.iloc[:, -1]\n",
        "\n",
        "x_train, x_val, y_train, y_val = train_test_split(x, y, test_size=0.3, stratify=y)"
      ]
    },
    {
      "cell_type": "markdown",
      "metadata": {
        "id": "LVvxbyPyezb3"
      },
      "source": [
        "we fit the model on 80% training data, and validate on the rest. Later we will do the final test on the test data. The training happens for 15 epochs."
      ]
    },
    {
      "cell_type": "code",
      "execution_count": null,
      "metadata": {
        "colab": {
          "base_uri": "https://localhost:8080/"
        },
        "id": "KrlvFubpqBeS",
        "outputId": "e57f7732-5066-4980-a8ed-4db63e1b789a"
      },
      "outputs": [
        {
          "name": "stdout",
          "output_type": "stream",
          "text": [
            "Epoch 1/15\n",
            "112/112 [==============================] - 2s 7ms/step - loss: 0.6613 - accuracy: 0.9008 - precision: 0.0585 - recall: 0.0690 - val_loss: 0.6158 - val_accuracy: 0.9511 - val_precision: 0.0000e+00 - val_recall: 0.0000e+00\n",
            "Epoch 2/15\n",
            "112/112 [==============================] - 0s 4ms/step - loss: 0.3834 - accuracy: 0.9514 - precision: 0.0000e+00 - recall: 0.0000e+00 - val_loss: 0.2121 - val_accuracy: 0.9511 - val_precision: 0.0000e+00 - val_recall: 0.0000e+00\n",
            "Epoch 3/15\n",
            "112/112 [==============================] - 0s 3ms/step - loss: 0.2083 - accuracy: 0.9514 - precision: 0.0000e+00 - recall: 0.0000e+00 - val_loss: 0.1981 - val_accuracy: 0.9511 - val_precision: 0.0000e+00 - val_recall: 0.0000e+00\n",
            "Epoch 4/15\n",
            "112/112 [==============================] - 0s 4ms/step - loss: 0.1954 - accuracy: 0.9514 - precision: 0.0000e+00 - recall: 0.0000e+00 - val_loss: 0.1878 - val_accuracy: 0.9511 - val_precision: 0.0000e+00 - val_recall: 0.0000e+00\n",
            "Epoch 5/15\n",
            "112/112 [==============================] - 0s 3ms/step - loss: 0.1855 - accuracy: 0.9514 - precision: 0.0000e+00 - recall: 0.0000e+00 - val_loss: 0.1809 - val_accuracy: 0.9511 - val_precision: 0.0000e+00 - val_recall: 0.0000e+00\n",
            "Epoch 6/15\n",
            "112/112 [==============================] - 0s 3ms/step - loss: 0.1785 - accuracy: 0.9514 - precision: 0.0000e+00 - recall: 0.0000e+00 - val_loss: 0.1768 - val_accuracy: 0.9511 - val_precision: 0.0000e+00 - val_recall: 0.0000e+00\n",
            "Epoch 7/15\n",
            "112/112 [==============================] - 0s 3ms/step - loss: 0.1719 - accuracy: 0.9514 - precision: 0.0000e+00 - recall: 0.0000e+00 - val_loss: 0.1755 - val_accuracy: 0.9511 - val_precision: 0.0000e+00 - val_recall: 0.0000e+00\n",
            "Epoch 8/15\n",
            "112/112 [==============================] - 0s 4ms/step - loss: 0.1682 - accuracy: 0.9514 - precision: 0.0000e+00 - recall: 0.0000e+00 - val_loss: 0.1724 - val_accuracy: 0.9511 - val_precision: 0.0000e+00 - val_recall: 0.0000e+00\n",
            "Epoch 9/15\n",
            "112/112 [==============================] - 0s 3ms/step - loss: 0.1647 - accuracy: 0.9514 - precision: 0.0000e+00 - recall: 0.0000e+00 - val_loss: 0.1733 - val_accuracy: 0.9511 - val_precision: 0.0000e+00 - val_recall: 0.0000e+00\n",
            "Epoch 10/15\n",
            "112/112 [==============================] - 0s 3ms/step - loss: 0.1617 - accuracy: 0.9514 - precision: 0.0000e+00 - recall: 0.0000e+00 - val_loss: 0.1729 - val_accuracy: 0.9511 - val_precision: 0.0000e+00 - val_recall: 0.0000e+00\n",
            "Epoch 11/15\n",
            "112/112 [==============================] - 0s 3ms/step - loss: 0.1595 - accuracy: 0.9514 - precision: 0.0000e+00 - recall: 0.0000e+00 - val_loss: 0.1697 - val_accuracy: 0.9511 - val_precision: 0.0000e+00 - val_recall: 0.0000e+00\n",
            "Epoch 12/15\n",
            "112/112 [==============================] - 0s 4ms/step - loss: 0.1573 - accuracy: 0.9514 - precision: 0.0000e+00 - recall: 0.0000e+00 - val_loss: 0.1698 - val_accuracy: 0.9511 - val_precision: 0.0000e+00 - val_recall: 0.0000e+00\n",
            "Epoch 13/15\n",
            "112/112 [==============================] - 0s 4ms/step - loss: 0.1559 - accuracy: 0.9514 - precision: 0.0000e+00 - recall: 0.0000e+00 - val_loss: 0.1693 - val_accuracy: 0.9511 - val_precision: 0.0000e+00 - val_recall: 0.0000e+00\n",
            "Epoch 14/15\n",
            "112/112 [==============================] - 0s 3ms/step - loss: 0.1550 - accuracy: 0.9514 - precision: 0.0000e+00 - recall: 0.0000e+00 - val_loss: 0.1711 - val_accuracy: 0.9511 - val_precision: 0.0000e+00 - val_recall: 0.0000e+00\n",
            "Epoch 15/15\n",
            "112/112 [==============================] - 0s 3ms/step - loss: 0.1533 - accuracy: 0.9514 - precision: 0.0000e+00 - recall: 0.0000e+00 - val_loss: 0.1724 - val_accuracy: 0.9511 - val_precision: 0.0000e+00 - val_recall: 0.0000e+00\n"
          ]
        }
      ],
      "source": [
        "history = model.fit(x_train, y_train, validation_data=(x_val, y_val), epochs=15)"
      ]
    },
    {
      "cell_type": "markdown",
      "metadata": {
        "id": "voqUo00lAqCZ"
      },
      "source": [
        "# Improving DL Models"
      ]
    },
    {
      "cell_type": "markdown",
      "metadata": {
        "id": "Op2Frp44uSiX"
      },
      "source": [
        "Suggest ways to improve your model"
      ]
    },
    {
      "cell_type": "markdown",
      "metadata": {
        "id": "IImSYWQGBSz6"
      },
      "source": [
        "### Checking For Data Imbalance"
      ]
    },
    {
      "cell_type": "markdown",
      "metadata": {
        "id": "ZHxCONODMkNN"
      },
      "source": [
        "We check for imbalance because we have a poor recall and precision."
      ]
    },
    {
      "cell_type": "code",
      "execution_count": null,
      "metadata": {
        "id": "1bF6G8c58SOE"
      },
      "outputs": [],
      "source": []
    },
    {
      "cell_type": "markdown",
      "metadata": {
        "id": "gzZBB5GMCOld"
      },
      "source": [
        "We have a huge imbalance in the data, this is why we fix it with oversamppling and undersampling.\n",
        "\n",
        "We will oversample this time using the SMOTE() function instead of random oversampling, and this is because SMOTE will generate new data based on the data that we have, so we avoid overfitting."
      ]
    },
    {
      "cell_type": "code",
      "execution_count": null,
      "metadata": {
        "colab": {
          "base_uri": "https://localhost:8080/",
          "height": 502
        },
        "id": "US4xON4LBX8I",
        "outputId": "5c54ac07-81c1-4f5f-82b4-0113f9efc078"
      },
      "outputs": [
        {
          "data": {
            "text/plain": [
              "(array([3403.,    0.,    0.,    0.,    0.,    0.,    0.,    0.,    0.,\n",
              "        3403.]),\n",
              " array([0. , 0.1, 0.2, 0.3, 0.4, 0.5, 0.6, 0.7, 0.8, 0.9, 1. ]),\n",
              " <BarContainer object of 10 artists>)"
            ]
          },
          "execution_count": 44,
          "metadata": {},
          "output_type": "execute_result"
        },
        {
          "data": {
            "image/png": "[encoded data removed]",
            "text/plain": [
              "<Figure size 640x480 with 1 Axes>"
            ]
          },
          "metadata": {},
          "output_type": "display_data"
        }
      ],
      "source": [
        "from imblearn.over_sampling import SMOTE\n",
        "\n",
        "over = SMOTE()\n",
        "x_new, y_new = over.fit_resample(x_train, y_train)\n",
        "\n",
        "\n",
        "plt.hist([y_new])"
      ]
    },
    {
      "cell_type": "markdown",
      "metadata": {
        "id": "OmfeUhi1ezb9"
      },
      "source": [
        "Split the balanced dataset between 90% (training and validation), 10% testing\n",
        "Then divide the 90% between 80% training and 20% validation"
      ]
    },
    {
      "cell_type": "code",
      "execution_count": null,
      "metadata": {
        "id": "IxnYFoPZezb-"
      },
      "outputs": [],
      "source": [
        "from sklearn.model_selection import train_test_split\n",
        "\n",
        "\n",
        "x_train_val, x_test, y_train_val, y_test = train_test_split(x_new, y_new, test_size=0.1, stratify=y_new)\n",
        "x_train, x_val, y_train, y_val = train_test_split(x_train_val, y_train_val, test_size=0.2, stratify=y_train_val)"
      ]
    },
    {
      "cell_type": "markdown",
      "metadata": {
        "id": "dgyxF74oezcA"
      },
      "source": [
        "Now we will train the model on the balanced data, and tune it on the validation set"
      ]
    },
    {
      "cell_type": "code",
      "execution_count": null,
      "metadata": {
        "colab": {
          "base_uri": "https://localhost:8080/"
        },
        "id": "26YTispLEm9N",
        "outputId": "e94137f3-7019-4856-cc92-d81e06e9548e"
      },
      "outputs": [
        {
          "name": "stdout",
          "output_type": "stream",
          "text": [
            "Epoch 1/15\n",
            "154/154 [==============================] - 0s 3ms/step - loss: 0.5932 - accuracy: 0.5376 - precision: 0.8172 - recall: 0.0967 - val_loss: 0.5385 - val_accuracy: 0.7951 - val_precision: 0.8110 - val_recall: 0.7700\n",
            "Epoch 2/15\n",
            "154/154 [==============================] - 0s 3ms/step - loss: 0.5173 - accuracy: 0.7902 - precision: 0.7797 - recall: 0.8090 - val_loss: 0.4979 - val_accuracy: 0.8122 - val_precision: 0.7924 - val_recall: 0.8467\n",
            "Epoch 3/15\n",
            "154/154 [==============================] - 0s 3ms/step - loss: 0.4886 - accuracy: 0.7990 - precision: 0.7642 - recall: 0.8649 - val_loss: 0.4788 - val_accuracy: 0.8033 - val_precision: 0.7555 - val_recall: 0.8972\n",
            "Epoch 4/15\n",
            "154/154 [==============================] - 0s 3ms/step - loss: 0.4707 - accuracy: 0.8051 - precision: 0.7582 - recall: 0.8959 - val_loss: 0.4619 - val_accuracy: 0.8082 - val_precision: 0.7625 - val_recall: 0.8956\n",
            "Epoch 5/15\n",
            "154/154 [==============================] - 0s 3ms/step - loss: 0.4569 - accuracy: 0.8055 - precision: 0.7536 - recall: 0.9078 - val_loss: 0.4493 - val_accuracy: 0.8106 - val_precision: 0.7628 - val_recall: 0.9021\n",
            "Epoch 6/15\n",
            "154/154 [==============================] - 1s 3ms/step - loss: 0.4466 - accuracy: 0.8051 - precision: 0.7536 - recall: 0.9065 - val_loss: 0.4484 - val_accuracy: 0.8057 - val_precision: 0.7419 - val_recall: 0.9380\n",
            "Epoch 7/15\n",
            "154/154 [==============================] - 0s 3ms/step - loss: 0.4425 - accuracy: 0.8061 - precision: 0.7535 - recall: 0.9098 - val_loss: 0.4319 - val_accuracy: 0.8171 - val_precision: 0.7675 - val_recall: 0.9103\n",
            "Epoch 8/15\n",
            "154/154 [==============================] - 0s 3ms/step - loss: 0.4332 - accuracy: 0.8116 - precision: 0.7605 - recall: 0.9098 - val_loss: 0.4256 - val_accuracy: 0.8180 - val_precision: 0.7635 - val_recall: 0.9217\n",
            "Epoch 9/15\n",
            "154/154 [==============================] - 0s 3ms/step - loss: 0.4298 - accuracy: 0.8094 - precision: 0.7564 - recall: 0.9127 - val_loss: 0.4185 - val_accuracy: 0.8204 - val_precision: 0.7688 - val_recall: 0.9168\n",
            "Epoch 10/15\n",
            "154/154 [==============================] - 0s 3ms/step - loss: 0.4233 - accuracy: 0.8159 - precision: 0.7608 - recall: 0.9216 - val_loss: 0.4155 - val_accuracy: 0.8229 - val_precision: 0.7712 - val_recall: 0.9184\n",
            "Epoch 11/15\n",
            "154/154 [==============================] - 0s 3ms/step - loss: 0.4189 - accuracy: 0.8190 - precision: 0.7636 - recall: 0.9241 - val_loss: 0.4066 - val_accuracy: 0.8261 - val_precision: 0.7849 - val_recall: 0.8989\n",
            "Epoch 12/15\n",
            "154/154 [==============================] - 0s 3ms/step - loss: 0.4164 - accuracy: 0.8167 - precision: 0.7615 - recall: 0.9224 - val_loss: 0.4043 - val_accuracy: 0.8253 - val_precision: 0.7846 - val_recall: 0.8972\n",
            "Epoch 13/15\n",
            "154/154 [==============================] - 0s 3ms/step - loss: 0.4132 - accuracy: 0.8173 - precision: 0.7613 - recall: 0.9245 - val_loss: 0.3995 - val_accuracy: 0.8294 - val_precision: 0.7902 - val_recall: 0.8972\n",
            "Epoch 14/15\n",
            "154/154 [==============================] - 0s 3ms/step - loss: 0.4101 - accuracy: 0.8190 - precision: 0.7650 - recall: 0.9208 - val_loss: 0.3998 - val_accuracy: 0.8261 - val_precision: 0.7755 - val_recall: 0.9184\n",
            "Epoch 15/15\n",
            "154/154 [==============================] - 1s 3ms/step - loss: 0.4067 - accuracy: 0.8233 - precision: 0.7712 - recall: 0.9192 - val_loss: 0.3941 - val_accuracy: 0.8335 - val_precision: 0.7884 - val_recall: 0.9119\n"
          ]
        }
      ],
      "source": [
        "history = model.fit(x_train, y_train, validation_data=(x_val, y_val), epochs=15)"
      ]
    },
    {
      "cell_type": "markdown",
      "metadata": {
        "id": "wAhUAu5JezcC"
      },
      "source": [
        "Evaluate your model on the test set that you kept aside at the beginning."
      ]
    },
    {
      "cell_type": "code",
      "execution_count": null,
      "metadata": {
        "colab": {
          "base_uri": "https://localhost:8080/"
        },
        "id": "utTyIgJLezcD",
        "outputId": "f64141a2-c617-45c8-f17d-c73f43e39624"
      },
      "outputs": [
        {
          "name": "stdout",
          "output_type": "stream",
          "text": [
            "22/22 [==============================] - 0s 3ms/step - loss: 0.3866 - accuracy: 0.8429 - precision: 0.7920 - recall: 0.9294\n"
          ]
        },
        {
          "data": {
            "text/plain": [
              "[0.386578768491745, 0.8428781032562256, 0.791979968547821, 0.929411768913269]"
            ]
          },
          "execution_count": 47,
          "metadata": {},
          "output_type": "execute_result"
        }
      ],
      "source": [
        "model.evaluate(x_test, y_test)"
      ]
    },
    {
      "cell_type": "markdown",
      "metadata": {
        "id": "hhfhpIaWGtz2"
      },
      "source": [
        "We see that the performance gets better when our data became balanced.\n",
        "Now we will try improving our model with other techniques that we learned through the week."
      ]
    },
    {
      "cell_type": "markdown",
      "metadata": {
        "id": "ngJVLbRKG7U_"
      },
      "source": [
        "### Model Design"
      ]
    },
    {
      "cell_type": "markdown",
      "metadata": {
        "id": "sMdcXspCHxIo"
      },
      "source": [
        "We will introduce batch normalization after each layer and then train the model"
      ]
    },
    {
      "cell_type": "code",
      "execution_count": null,
      "metadata": {
        "colab": {
          "base_uri": "https://localhost:8080/"
        },
        "id": "yK78-g-hHrmq",
        "outputId": "9f42f3c2-133e-4941-a16e-db0a5bcd6ff8"
      },
      "outputs": [
        {
          "name": "stdout",
          "output_type": "stream",
          "text": [
            "Model: \"sequential_1\"\n",
            "_________________________________________________________________\n",
            " Layer (type)                Output Shape              Param #   \n",
            "=================================================================\n",
            " dense_6 (Dense)             (None, 32)                352       \n",
            "                                                                 \n",
            " batch_normalization (Batch  (None, 32)                128       \n",
            " Normalization)                                                  \n",
            "                                                                 \n",
            " dense_7 (Dense)             (None, 16)                528       \n",
            "                                                                 \n",
            " batch_normalization_1 (Bat  (None, 16)                64        \n",
            " chNormalization)                                                \n",
            "                                                                 \n",
            " dense_8 (Dense)             (None, 8)                 136       \n",
            "                                                                 \n",
            " batch_normalization_2 (Bat  (None, 8)                 32        \n",
            " chNormalization)                                                \n",
            "                                                                 \n",
            " dense_9 (Dense)             (None, 4)                 36        \n",
            "                                                                 \n",
            " batch_normalization_3 (Bat  (None, 4)                 16        \n",
            " chNormalization)                                                \n",
            "                                                                 \n",
            " dense_10 (Dense)            (None, 2)                 10        \n",
            "                                                                 \n",
            " batch_normalization_4 (Bat  (None, 2)                 8         \n",
            " chNormalization)                                                \n",
            "                                                                 \n",
            " dense_11 (Dense)            (None, 1)                 3         \n",
            "                                                                 \n",
            "=================================================================\n",
            "Total params: 1313 (5.13 KB)\n",
            "Trainable params: 1189 (4.64 KB)\n",
            "Non-trainable params: 124 (496.00 Byte)\n",
            "_________________________________________________________________\n"
          ]
        }
      ],
      "source": [
        "from tensorflow.keras.layers import BatchNormalization\n",
        "model = Sequential()\n",
        "\n",
        "model.add(Dense(32, input_dim=10, activation='relu'))\n",
        "model.add(BatchNormalization())\n",
        "model.add(Dense(16, activation='relu'))\n",
        "model.add(BatchNormalization())\n",
        "model.add(Dense(8, activation='relu'))\n",
        "model.add(BatchNormalization())\n",
        "model.add(Dense(4, activation='relu'))\n",
        "model.add(BatchNormalization())\n",
        "model.add(Dense(2, activation='relu'))\n",
        "model.add(BatchNormalization())\n",
        "model.add(Dense(1, activation='sigmoid'))\n",
        "\n",
        "model.summary()\n"
      ]
    },
    {
      "cell_type": "code",
      "execution_count": null,
      "metadata": {
        "colab": {
          "base_uri": "https://localhost:8080/"
        },
        "id": "REDrQVWLJLs5",
        "outputId": "643ed414-4c75-457c-c9e5-753324198387"
      },
      "outputs": [
        {
          "name": "stdout",
          "output_type": "stream",
          "text": [
            "Epoch 1/15\n",
            "154/154 [==============================] - 4s 6ms/step - loss: 0.6521 - accuracy: 0.6490 - precision: 0.7183 - recall: 0.4902 - val_loss: 0.6700 - val_accuracy: 0.6539 - val_precision: 0.8039 - val_recall: 0.4078\n",
            "Epoch 2/15\n",
            "154/154 [==============================] - 1s 6ms/step - loss: 0.5743 - accuracy: 0.7716 - precision: 0.7983 - recall: 0.7269 - val_loss: 0.6135 - val_accuracy: 0.6914 - val_precision: 0.8426 - val_recall: 0.4715\n",
            "Epoch 3/15\n",
            "154/154 [==============================] - 1s 6ms/step - loss: 0.5130 - accuracy: 0.7884 - precision: 0.7947 - recall: 0.7776 - val_loss: 0.4912 - val_accuracy: 0.8237 - val_precision: 0.8186 - val_recall: 0.8320\n",
            "Epoch 4/15\n",
            "154/154 [==============================] - 1s 5ms/step - loss: 0.4654 - accuracy: 0.8088 - precision: 0.7952 - recall: 0.8318 - val_loss: 0.4228 - val_accuracy: 0.8318 - val_precision: 0.8225 - val_recall: 0.8467\n",
            "Epoch 5/15\n",
            "154/154 [==============================] - 1s 5ms/step - loss: 0.4439 - accuracy: 0.8169 - precision: 0.7988 - recall: 0.8473 - val_loss: 0.3922 - val_accuracy: 0.8441 - val_precision: 0.8318 - val_recall: 0.8630\n",
            "Epoch 6/15\n",
            "154/154 [==============================] - 1s 4ms/step - loss: 0.4240 - accuracy: 0.8200 - precision: 0.8013 - recall: 0.8510 - val_loss: 0.3816 - val_accuracy: 0.8498 - val_precision: 0.8141 - val_recall: 0.9070\n",
            "Epoch 7/15\n",
            "154/154 [==============================] - 1s 4ms/step - loss: 0.4109 - accuracy: 0.8271 - precision: 0.8072 - recall: 0.8596 - val_loss: 0.3715 - val_accuracy: 0.8506 - val_precision: 0.8318 - val_recall: 0.8793\n",
            "Epoch 8/15\n",
            "154/154 [==============================] - 1s 4ms/step - loss: 0.4039 - accuracy: 0.8255 - precision: 0.7984 - recall: 0.8710 - val_loss: 0.3597 - val_accuracy: 0.8596 - val_precision: 0.8200 - val_recall: 0.9217\n",
            "Epoch 9/15\n",
            "154/154 [==============================] - 1s 4ms/step - loss: 0.4083 - accuracy: 0.8229 - precision: 0.8014 - recall: 0.8584 - val_loss: 0.3537 - val_accuracy: 0.8588 - val_precision: 0.8226 - val_recall: 0.9152\n",
            "Epoch 10/15\n",
            "154/154 [==============================] - 1s 4ms/step - loss: 0.3915 - accuracy: 0.8267 - precision: 0.8090 - recall: 0.8555 - val_loss: 0.3473 - val_accuracy: 0.8580 - val_precision: 0.8311 - val_recall: 0.8989\n",
            "Epoch 11/15\n",
            "154/154 [==============================] - 1s 4ms/step - loss: 0.3859 - accuracy: 0.8318 - precision: 0.8137 - recall: 0.8608 - val_loss: 0.3470 - val_accuracy: 0.8596 - val_precision: 0.8119 - val_recall: 0.9364\n",
            "Epoch 12/15\n",
            "154/154 [==============================] - 1s 4ms/step - loss: 0.3806 - accuracy: 0.8339 - precision: 0.8073 - recall: 0.8771 - val_loss: 0.3271 - val_accuracy: 0.8686 - val_precision: 0.8363 - val_recall: 0.9168\n",
            "Epoch 13/15\n",
            "154/154 [==============================] - 1s 6ms/step - loss: 0.3810 - accuracy: 0.8304 - precision: 0.8096 - recall: 0.8641 - val_loss: 0.3360 - val_accuracy: 0.8580 - val_precision: 0.8223 - val_recall: 0.9135\n",
            "Epoch 14/15\n",
            "154/154 [==============================] - 1s 6ms/step - loss: 0.3694 - accuracy: 0.8380 - precision: 0.8132 - recall: 0.8776 - val_loss: 0.3237 - val_accuracy: 0.8751 - val_precision: 0.8443 - val_recall: 0.9201\n",
            "Epoch 15/15\n",
            "154/154 [==============================] - 1s 4ms/step - loss: 0.3686 - accuracy: 0.8392 - precision: 0.8167 - recall: 0.8747 - val_loss: 0.3306 - val_accuracy: 0.8645 - val_precision: 0.8392 - val_recall: 0.9021\n"
          ]
        }
      ],
      "source": [
        "model.compile(optimizer='adam', loss='binary_crossentropy', metrics=['accuracy', 'Precision', 'Recall'])\n",
        "\n",
        "history2 = model.fit(x_train, y_train, validation_data=(x_val, y_val), epochs=15)"
      ]
    },
    {
      "cell_type": "code",
      "execution_count": null,
      "metadata": {
        "colab": {
          "base_uri": "https://localhost:8080/"
        },
        "id": "eenpPyr_ezcH",
        "outputId": "79235f1f-fc44-4e7c-a417-8d78b1ac9bfe"
      },
      "outputs": [
        {
          "name": "stdout",
          "output_type": "stream",
          "text": [
            "22/22 [==============================] - 0s 3ms/step - loss: 0.3196 - accuracy: 0.8693 - precision: 0.8575 - recall: 0.8853\n"
          ]
        },
        {
          "data": {
            "text/plain": [
              "[0.31961503624916077,\n",
              " 0.8693098425865173,\n",
              " 0.8575498461723328,\n",
              " 0.8852941393852234]"
            ]
          },
          "execution_count": 50,
          "metadata": {},
          "output_type": "execute_result"
        }
      ],
      "source": [
        "model.evaluate(x_test, y_test)"
      ]
    },
    {
      "cell_type": "markdown",
      "metadata": {
        "id": "hhkSEThVKEdm"
      },
      "source": [
        "We see that we are achieving better metrics with batch normalization."
      ]
    }
  ],
  "metadata": {
    "colab": {
      "collapsed_sections": [
        "0g2RQRSltgja",
        "gBvX5nCYt8cT",
        "0-RxAH5auFFy",
        "r6gAyBGtubI7",
        "_jFIiKPvllld",
        "5k-KoLpH5C9R",
        "voqUo00lAqCZ"
      ],
      "provenance": []
    },
    "kernelspec": {
      "display_name": "Python 3.10.5 64-bit",
      "language": "python",
      "name": "python3"
    },
    "language_info": {
      "codemirror_mode": {
        "name": "ipython",
        "version": 3
      },
      "file_extension": ".py",
      "mimetype": "text/x-python",
      "name": "python",
      "nbconvert_exporter": "python",
      "pygments_lexer": "ipython3",
      "version": "3.10.6"
    },
    "vscode": {
      "interpreter": {
        "hash": "8c3d4d9970fc5c09c50d9318a9c7fbf4d0159e4b28833276f5678ee22bded273"
      }
    }
  },
  "nbformat": 4,
  "nbformat_minor": 0
}
